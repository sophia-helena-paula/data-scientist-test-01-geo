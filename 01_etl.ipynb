{
 "cells": [
  {
   "cell_type": "code",
   "execution_count": null,
   "metadata": {},
   "outputs": [
    {
     "data": {
      "text/plain": [
       "'\\n    Instruções:\\n        1- Download dos dados municipais do estado de Minas Gerais;\\n        2- Transformação dos dados de desmatamento;\\n        3- Processamento dos dados:\\n            -reprojeção para EPSG:31983;\\n            -cálculo de área;\\n        4- Geração dos arquivos de saída no formato GeoJSON;\\n'"
      ]
     },
     "execution_count": 9,
     "metadata": {},
     "output_type": "execute_result"
    }
   ],
   "source": [
    "\"\"\"\n",
    "    Instruções:\n",
    "        1- Download dos dados municipais do estado de Minas Gerais;\n",
    "        2- Transformação dos dados de desmatamento;\n",
    "        3- Processamento dos dados:\n",
    "            -reprojeção para EPSG:31983;\n",
    "            -cálculo de área;\n",
    "        4- Geração dos arquivos de saída no formato GeoJSON;\n",
    "\"\"\""
   ]
  },
  {
   "cell_type": "code",
   "execution_count": 13,
   "metadata": {},
   "outputs": [],
   "source": [
    "import geopandas as gpd \n",
    "import pandas as pd\n",
    "import requests\n",
    "pd.set_option('display.max_columns', None)"
   ]
  },
  {
   "cell_type": "code",
   "execution_count": 3,
   "metadata": {},
   "outputs": [],
   "source": [
    "#Fazendo o get do JSON dos munincipios de MG, e transformando ele em geojson\n",
    "url = 'https://raw.githubusercontent.com/tbrugz/geodata-br/master/geojson/geojs-31-mun.json'\n",
    "response = requests.get(url)\n",
    "data = response.json()\n",
    "gdf = gpd.GeoDataFrame.from_features(data[\"features\"])\n",
    "\n",
    "#Dentro do arquivo não há evidencias do elipsoide de referencia, então vou considerar o padrão WGS84\n",
    "gdf.crs = \"EPSG:4326\"\n",
    "\n",
    "#Fazendo a conversão para EPSG==31983\n",
    "gdf = gdf.to_crs(epsg=31983)"
   ]
  },
  {
   "cell_type": "code",
   "execution_count": 10,
   "metadata": {},
   "outputs": [
    {
     "name": "stdout",
     "output_type": "stream",
     "text": [
      "Arquivo salvo em dados/municipios-mg.geojson\n"
     ]
    }
   ],
   "source": [
    "#Feature engineering: Criando uma novo coluna para a área total do município em km**2\n",
    "gdf[\"area_km2\"] = gdf.geometry.area / 1e6\n",
    "\n",
    "#Salvando o arquivo com o nome especificado\n",
    "output_file = \"dados/municipios-mg.geojson\"\n",
    "gdf.to_file(output_file, driver=\"GeoJSON\")\n",
    "\n",
    "print(f\"Arquivo salvo em {output_file}\")"
   ]
  },
  {
   "cell_type": "code",
   "execution_count": 26,
   "metadata": {},
   "outputs": [
    {
     "name": "stdout",
     "output_type": "stream",
     "text": [
      "Arquivo salvo em dados/focos-desmatamento-mg.geojson\n"
     ]
    }
   ],
   "source": [
    "#Agora vamos fazer a call dos arquivos de desmatamento e vamos uni-los\n",
    "file_path_ago22 = r\"dados/desmatamento_ago22.gpkg\"\n",
    "file_path_set22 = r\"dados/desmatamento_set22.gpkg\"\n",
    "\n",
    "# Lê os arquivos GeoPackage\n",
    "desmatamento_ago22 = gpd.read_file(file_path_ago22)\n",
    "desmatamento_set22 = gpd.read_file(file_path_set22)\n",
    "\n",
    "# Junta os GeoDataFrames\n",
    "focos_desmatamento = gpd.GeoDataFrame(pd.concat([desmatamento_ago22, desmatamento_set22], ignore_index=True))\n",
    "\n",
    "# Converte para a projeção EPSG:31983\n",
    "focos_desmatamento = focos_desmatamento.to_crs(epsg=31983)\n",
    "\n",
    "# Salva o GeoDataFrame no diretório 'dados' com o nome 'focos-desmatamento-mg.geojson'\n",
    "output_file = \"dados/focos-desmatamento-mg.geojson\"\n",
    "focos_desmatamento.to_file(output_file, driver=\"GeoJSON\")\n",
    "\n",
    "print(f\"Arquivo salvo em {output_file}\")"
   ]
  },
  {
   "cell_type": "code",
   "execution_count": null,
   "metadata": {},
   "outputs": [],
   "source": [
    "#Agora vamos fazer a call do XLSX do PIB dos municipios Brasileiros, vamos selecionar o ano que mais se aproxima de 2022 (2021 no caso), e selecionar somente MG como estado\n",
    "#(fonte: https://www.ibge.gov.br/estatisticas/economicas/contas-nacionais/9088-produto-interno-bruto-dos-municipios.html?=&t=downloads)\n",
    "pib_brasil = pd.read_excel(r\"dados\\PIB dos Municípios - base de dados 2010-2021.xlsx\")\n",
    "\n",
    "#Filtrando para 2021, e para o estado de MG somente\n",
    "pib_mg_2021 = pib_brasil[(pib_brasil['Ano'] == 2021) & (pib_brasil['Nome da Unidade da Federação'] == 'Minas Gerais')]\n",
    "\n",
    "#Salvando para CSV\n",
    "pib_mg_2021.to_csv(r\"dados/populacao-pib-municipios-mg.csv\")\n",
    "\n",
    "\n"
   ]
  }
 ],
 "metadata": {
  "kernelspec": {
   "display_name": "env",
   "language": "python",
   "name": "python3"
  },
  "language_info": {
   "codemirror_mode": {
    "name": "ipython",
    "version": 3
   },
   "file_extension": ".py",
   "mimetype": "text/x-python",
   "name": "python",
   "nbconvert_exporter": "python",
   "pygments_lexer": "ipython3",
   "version": "3.11.5"
  }
 },
 "nbformat": 4,
 "nbformat_minor": 2
}
